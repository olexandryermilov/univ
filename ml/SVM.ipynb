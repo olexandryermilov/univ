{
  "nbformat": 4,
  "nbformat_minor": 0,
  "metadata": {
    "kernelspec": {
      "display_name": "Python 3.6",
      "language": "python",
      "name": "python36"
    },
    "language_info": {
      "codemirror_mode": {
        "name": "ipython",
        "version": 3
      },
      "file_extension": ".py",
      "mimetype": "text/x-python",
      "name": "python",
      "nbconvert_exporter": "python",
      "pygments_lexer": "ipython3",
      "version": "3.6.2"
    },
    "colab": {
      "name": "SVM.ipynb",
      "provenance": []
    }
  },
  "cells": [
    {
      "cell_type": "code",
      "metadata": {
        "id": "Ate9Brdp0W1G",
        "colab_type": "code",
        "colab": {
          "base_uri": "https://localhost:8080/",
          "height": 34
        },
        "outputId": "710b3d20-776f-424c-ebaf-e0f6b48dad54"
      },
      "source": [
        "!pip install cvxopt"
      ],
      "execution_count": 1,
      "outputs": [
        {
          "output_type": "stream",
          "text": [
            "Requirement already satisfied: cvxopt in /usr/local/lib/python3.6/dist-packages (1.2.5)\n"
          ],
          "name": "stdout"
        }
      ]
    },
    {
      "cell_type": "code",
      "metadata": {
        "id": "_10wlSO10W1K",
        "colab_type": "code",
        "colab": {}
      },
      "source": [
        "import numpy as np\n",
        "\n",
        "\n",
        "class Kernel(object):\n",
        "    \"\"\"Check kernels here https://en.wikipedia.org/wiki/Support_vector_machine\"\"\"\n",
        "    @staticmethod\n",
        "    def linear():\n",
        "        return lambda x, y: np.inner(x, y)\n",
        "\n",
        "    @staticmethod\n",
        "    def gaussian(sigma):\n",
        "        return lambda x, y: np.exp(-(np.linalg.norm(x-y)**2/(sigma**2)))\n",
        "    \n",
        "import numpy as np\n",
        "import cvxopt.solvers\n",
        "import logging\n",
        "\n",
        "\n",
        "MIN_SUPPORT_VECTOR_MULTIPLIER = 1e-5\n",
        "\n",
        "\n",
        "class SVMTrainer(object):\n",
        "    def __init__(self, kernel, c=0.1):\n",
        "        self._kernel = kernel\n",
        "        self._c = c\n",
        "\n",
        "\n",
        "    def train(self, X, y):\n",
        "        lagrange_multipliers = self._compute_lagrange_multipliers(X, y)\n",
        "        return self._create_predictor(X, y, lagrange_multipliers)\n",
        "\n",
        "\n",
        "    def _kernel_matrix(self, X):\n",
        "        n_samples = X.shape[0]\n",
        "        K = np.zeros((n_samples, n_samples))\n",
        "        for i, x_i in enumerate(X):\n",
        "            for j, x_j in enumerate(X):\n",
        "                K[i, j] = self._kernel(x_i, x_j)\n",
        "        return K\n",
        "\n",
        "\n",
        "    def _create_predictor(self, X, y, lagrange_multipliers):\n",
        "        support_vector_indices = lagrange_multipliers > MIN_SUPPORT_VECTOR_MULTIPLIER\n",
        "        support_multipliers = lagrange_multipliers[support_vector_indices]\n",
        "        support_vectors = X[support_vector_indices]\n",
        "        support_vector_labels = y[support_vector_indices]\n",
        "        bias = np.mean(\n",
        "            [y_k - SVMPredictor(\n",
        "                    kernel=self._kernel,\n",
        "                    bias=0.0,\n",
        "                    weights=support_multipliers,\n",
        "                    support_vectors=support_vectors,\n",
        "                    support_vector_labels=support_vector_labels\n",
        "                ).predict(x_k) for (y_k, x_k) in zip(support_vector_labels, support_vectors)\n",
        "            ]\n",
        "        )\n",
        "        return SVMPredictor(\n",
        "            kernel=self._kernel,\n",
        "            bias=0.0,\n",
        "            weights=support_multipliers,\n",
        "            support_vectors=support_vectors,\n",
        "            support_vector_labels=support_vector_labels\n",
        "        )\n",
        "\n",
        "    def _compute_lagrange_multipliers(self, X, y):\n",
        "        n_samples = X.shape[0]\n",
        "        K = self._kernel_matrix(X)\n",
        "        P = cvxopt.matrix(np.outer(y, y) * K)\n",
        "        q = cvxopt.matrix(-1 * np.ones(n_samples))\n",
        "        G = cvxopt.matrix(np.diag(np.ones(n_samples) * -1))\n",
        "        h = cvxopt.matrix(np.zeros(n_samples))\n",
        "        A = cvxopt.matrix(y, (1, n_samples))\n",
        "        b = cvxopt.matrix(0.0)\n",
        "\n",
        "        # Check this\n",
        "\n",
        "        # -a_i \\leq 0\n",
        "        # G_std = cvxopt.matrix(np.diag(np.ones(n_samples) * -1))\n",
        "        # h_std = cvxopt.matrix(np.zeros(n_samples))\n",
        "\n",
        "        # # a_i \\leq c\n",
        "        # G_slack = cvxopt.matrix(np.diag(np.ones(n_samples)))\n",
        "        # h_slack = cvxopt.matrix(np.ones(n_samples) * self._c)\n",
        "\n",
        "        # G = cvxopt.matrix(np.vstack((G_std, G_slack)))\n",
        "        # h = cvxopt.matrix(np.vstack((h_std, h_slack)))\n",
        "        \n",
        "        solution = cvxopt.solvers.qp(P, q, G, h, A, b)\n",
        "\n",
        "        return np.ravel(solution['x'])\n",
        "\n",
        "\n",
        "class SVMPredictor(object):\n",
        "    def __init__(\n",
        "                self,\n",
        "                kernel,\n",
        "                bias,\n",
        "                weights,\n",
        "                support_vectors,\n",
        "                support_vector_labels\n",
        "            ):\n",
        "        \n",
        "        self._kernel = kernel\n",
        "        self._bias = bias\n",
        "        self._weights = weights\n",
        "        self._support_vectors = support_vectors\n",
        "        self._support_vector_labels = support_vector_labels\n",
        "\n",
        "\n",
        "        assert len(support_vectors) == len(support_vector_labels)\n",
        "        assert len(weights) == len(support_vector_labels)\n",
        "\n",
        "\n",
        "        logging.info(\"Bias: %s\", self._bias)\n",
        "        logging.info(\"Weights: %s\", self._weights)\n",
        "        logging.info(\"Support vectors: %s\", self._support_vectors)\n",
        "        logging.info(\"Support vector labels: %s\", self._support_vector_labels)\n",
        "\n",
        "    def predict(self, x):\n",
        "        result = self._bias\n",
        "        for w_i, x_i, y_i in zip(self._weights,\n",
        "                                 self._support_vectors,\n",
        "                                 self._support_vector_labels):\n",
        "            result += w_i * y_i * self._kernel(x_i, x)\n",
        "\n",
        "        return np.sign(result).item()"
      ],
      "execution_count": 0,
      "outputs": []
    },
    {
      "cell_type": "code",
      "metadata": {
        "id": "_5NsrfuW0W1N",
        "colab_type": "code",
        "colab": {}
      },
      "source": [
        "%matplotlib inline\n",
        "import numpy as np\n",
        "import matplotlib.pyplot as plt\n",
        "import matplotlib.cm as cm\n",
        "import itertools\n",
        "\n",
        "def plot(predictor, X, y, grid_size):\n",
        "    \n",
        "    x_min, x_max = X[:, 0].min() - 1, X[:, 0].max() + 1\n",
        "    y_min, y_max = X[:, 1].min() - 1, X[:, 1].max() + 1\n",
        "    \n",
        "    xx, yy = np.meshgrid(\n",
        "        np.linspace(x_min, x_max, grid_size),\n",
        "        np.linspace(y_min, y_max, grid_size),\n",
        "        indexing='ij'\n",
        "    )\n",
        "    \n",
        "    flatten = lambda m: np.array(m).reshape(-1,)\n",
        "\n",
        "    result = []\n",
        "    \n",
        "    for (i, j) in itertools.product(range(grid_size), range(grid_size)):\n",
        "        point = np.array([xx[i, j], yy[i, j]]).reshape(1, 2)\n",
        "        result.append(predictor.predict(point))\n",
        "\n",
        "    Z = np.array(result).reshape(xx.shape)\n",
        "    \n",
        "    plt.contourf(\n",
        "        xx, yy, Z,\n",
        "        cmap=cm.Paired,\n",
        "        levels=[-0.01, 0.01],\n",
        "        extend='both',\n",
        "        alpha=0.8\n",
        "    )\n",
        "    \n",
        "    \n",
        "    plt.scatter(\n",
        "        flatten(X[:, 0]),\n",
        "        flatten(X[:, 1]),\n",
        "        c=flatten(y),\n",
        "        cmap=cm.Paired\n",
        "    )\n",
        "    \n",
        "    plt.xlim(x_min, x_max)\n",
        "    plt.ylim(y_min, y_max)"
      ],
      "execution_count": 0,
      "outputs": []
    },
    {
      "cell_type": "code",
      "metadata": {
        "id": "uNEUYiun0W1T",
        "colab_type": "code",
        "colab": {}
      },
      "source": [
        "num_samples=100\n",
        "num_features=2\n",
        "grid_size=200\n",
        "samples = np.matrix(np.random.normal(size=num_samples * num_features)\n",
        "                        .reshape(num_samples, num_features))\n",
        "labels = 2 * (samples.sum(axis=1) > 0) - 1.0"
      ],
      "execution_count": 0,
      "outputs": []
    },
    {
      "cell_type": "code",
      "metadata": {
        "id": "T8OFeH7wOLeX",
        "colab_type": "code",
        "colab": {
          "base_uri": "https://localhost:8080/",
          "height": 452
        },
        "outputId": "f25521a4-7177-4823-eb80-1cc55f4ff686"
      },
      "source": [
        "from sklearn.metrics import roc_curve, auc\n",
        "from sklearn.model_selection import train_test_split\n",
        "trainer = SVMTrainer(Kernel.gaussian(1))\n",
        "X_train, X_test, y_train, y_test = train_test_split(samples, labels, test_size=.5,\n",
        "                                                    random_state=0)\n",
        "predictor = trainer.train(X_train, y_train)\n",
        "plot(predictor, samples, labels, grid_size)"
      ],
      "execution_count": 66,
      "outputs": [
        {
          "output_type": "stream",
          "text": [
            "     pcost       dcost       gap    pres   dres\n",
            " 0: -9.4197e+00 -2.6289e+01  1e+02  8e+00  2e+00\n",
            " 1: -1.6251e+01 -3.1287e+01  4e+01  3e+00  7e-01\n",
            " 2: -2.7505e+01 -3.9842e+01  3e+01  1e+00  4e-01\n",
            " 3: -3.1858e+01 -3.5567e+01  6e+00  3e-01  8e-02\n",
            " 4: -3.2840e+01 -3.3676e+01  9e-01  1e-02  3e-03\n",
            " 5: -3.3346e+01 -3.3393e+01  5e-02  4e-04  1e-04\n",
            " 6: -3.3380e+01 -3.3382e+01  2e-03  1e-05  3e-06\n",
            " 7: -3.3381e+01 -3.3381e+01  8e-05  2e-07  4e-08\n",
            " 8: -3.3381e+01 -3.3381e+01  2e-06  2e-09  4e-10\n",
            "Optimal solution found.\n"
          ],
          "name": "stdout"
        },
        {
          "output_type": "display_data",
          "data": {
            "image/png": "[encoded data removed]",
            "text/plain": [
              "<Figure size 432x288 with 1 Axes>"
            ]
          },
          "metadata": {
            "tags": [],
            "needs_background": "light"
          }
        }
      ]
    },
    {
      "cell_type": "code",
      "metadata": {
        "id": "ETwuszqPrcpZ",
        "colab_type": "code",
        "colab": {}
      },
      "source": [
        "fpr = dict()\n",
        "tpr = dict()\n",
        "roc_auc = dict()\n",
        "y_score = [predictor.predict(x) for x in X_test]\n",
        "for i in range(2):\n",
        "    fpr[i], tpr[i], _ = roc_curve(y_test[:], y_score[:])\n",
        "    roc_auc[i] = auc(fpr[i], tpr[i])"
      ],
      "execution_count": 0,
      "outputs": []
    },
    {
      "cell_type": "code",
      "metadata": {
        "id": "b7zkgiP3uXpJ",
        "colab_type": "code",
        "colab": {
          "base_uri": "https://localhost:8080/",
          "height": 295
        },
        "outputId": "8dcf7a69-8c86-4099-a625-57c57e812fa7"
      },
      "source": [
        "plt.figure()\n",
        "lw = 2\n",
        "plt.plot(fpr[0], tpr[0], color='darkorange',\n",
        "         lw=lw, label='ROC curve (area = %0.2f)' % roc_auc[1])\n",
        "plt.plot([0, 1], [0, 1], color='navy', lw=lw, linestyle='--')\n",
        "plt.xlim([0.0, 1.0])\n",
        "plt.ylim([0.0, 1.05])\n",
        "plt.xlabel('False Positive Rate')\n",
        "plt.ylabel('True Positive Rate')\n",
        "plt.title('Receiver operating characteristic example')\n",
        "plt.legend(loc=\"lower right\")\n",
        "plt.show()"
      ],
      "execution_count": 68,
      "outputs": [
        {
          "output_type": "display_data",
          "data": {
            "image/png": "[encoded data removed]",
            "text/plain": [
              "<Figure size 432x288 with 1 Axes>"
            ]
          },
          "metadata": {
            "tags": [],
            "needs_background": "light"
          }
        }
      ]
    },
    {
      "cell_type": "code",
      "metadata": {
        "id": "jozDS8AAPuDs",
        "colab_type": "code",
        "colab": {
          "base_uri": "https://localhost:8080/",
          "height": 319
        },
        "outputId": "a9e07317-a0de-401a-f292-3de2f6708848"
      },
      "source": [
        "from sklearn.svm import SVC\n",
        "clf = SVC(kernel = \"sigmoid\", probability=True)\n",
        "clf.fit(X_train, y_train)\n",
        "plot(clf, samples, labels, grid_size)"
      ],
      "execution_count": 78,
      "outputs": [
        {
          "output_type": "stream",
          "text": [
            "/usr/local/lib/python3.6/dist-packages/sklearn/utils/validation.py:760: DataConversionWarning: A column-vector y was passed when a 1d array was expected. Please change the shape of y to (n_samples, ), for example using ravel().\n",
            "  y = column_or_1d(y, warn=True)\n"
          ],
          "name": "stderr"
        },
        {
          "output_type": "display_data",
          "data": {
            "image/png": "[encoded data removed]",
            "text/plain": [
              "<Figure size 432x288 with 1 Axes>"
            ]
          },
          "metadata": {
            "tags": [],
            "needs_background": "light"
          }
        }
      ]
    },
    {
      "cell_type": "code",
      "metadata": {
        "id": "M6EOZ0Otw9M1",
        "colab_type": "code",
        "colab": {}
      },
      "source": [
        "import numpy as np\n",
        "import matplotlib.pyplot as plt\n",
        "from itertools import cycle\n",
        "\n",
        "from sklearn import svm, datasets\n",
        "from sklearn.metrics import roc_curve, auc\n",
        "from sklearn.model_selection import train_test_split\n",
        "\n",
        "\n",
        "from scipy import interp\n",
        "from sklearn.metrics import roc_auc_score"
      ],
      "execution_count": 0,
      "outputs": []
    },
    {
      "cell_type": "code",
      "metadata": {
        "id": "WaT0EKpTwTj3",
        "colab_type": "code",
        "colab": {
          "base_uri": "https://localhost:8080/",
          "height": 68
        },
        "outputId": "db3ed3ae-287f-4561-f980-a8a3f4926518"
      },
      "source": [
        "y_score = clf.predict(X_test)\n",
        "fpr = dict()\n",
        "tpr = dict()\n",
        "roc_auc = dict()\n",
        "print(y_score)\n",
        "for i in range(1):\n",
        "    fpr[i], tpr[i], _ = roc_curve(y_test, y_score)\n",
        "    roc_auc[i] = auc(fpr[i], tpr[i])"
      ],
      "execution_count": 81,
      "outputs": [
        {
          "output_type": "stream",
          "text": [
            "[ 1.  1.  1.  1.  1. -1.  1.  1.  1.  1.  1. -1. -1.  1. -1.  1.  1. -1.\n",
            " -1. -1.  1.  1.  1. -1. -1. -1. -1.  1.  1.  1.  1.  1. -1. -1. -1. -1.\n",
            "  1. -1.  1. -1.  1. -1.  1. -1.  1.  1.  1.  1.  1.  1.]\n"
          ],
          "name": "stdout"
        }
      ]
    },
    {
      "cell_type": "code",
      "metadata": {
        "id": "KSXFYV1Rwh1L",
        "colab_type": "code",
        "colab": {
          "base_uri": "https://localhost:8080/",
          "height": 295
        },
        "outputId": "3c732e81-d8ee-435f-8edb-f48556a596a8"
      },
      "source": [
        "plt.figure()\n",
        "lw = 2\n",
        "plt.plot(fpr[0], tpr[0], color='darkorange',\n",
        "         lw=lw, label='ROC curve (area = %0.2f)' % roc_auc[0])\n",
        "plt.plot([0, 1], [0, 1], color='navy', lw=lw, linestyle='--')\n",
        "plt.xlim([0.0, 1.0])\n",
        "plt.ylim([0.0, 1.05])\n",
        "plt.xlabel('False Positive Rate')\n",
        "plt.ylabel('True Positive Rate')\n",
        "plt.title('Receiver operating characteristic example')\n",
        "plt.legend(loc=\"lower right\")\n",
        "plt.show()"
      ],
      "execution_count": 82,
      "outputs": [
        {
          "output_type": "display_data",
          "data": {
            "image/png": "[encoded data removed]",
            "text/plain": [
              "<Figure size 432x288 with 1 Axes>"
            ]
          },
          "metadata": {
            "tags": [],
            "needs_background": "light"
          }
        }
      ]
    }
  ]
}