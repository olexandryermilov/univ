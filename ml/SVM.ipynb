{
 "cells": [
  {
   "cell_type": "code",
   "execution_count": 359,
   "metadata": {
    "colab": {
     "base_uri": "https://localhost:8080/",
     "height": 34
    },
    "colab_type": "code",
    "id": "Ate9Brdp0W1G",
    "outputId": "710b3d20-776f-424c-ebaf-e0f6b48dad54"
   },
   "outputs": [
    {
     "name": "stdout",
     "output_type": "stream",
     "text": [
      "Looking in indexes: https://repo.dev.wixpress.com/artifactory/api/pypi/pypi-local/simple, https://pypi.python.org/simple\r\n",
      "Requirement already satisfied: cvxopt in /anaconda3/lib/python3.7/site-packages (1.2.5)\r\n"
     ]
    }
   ],
   "source": [
    "!pip install cvxopt"
   ]
  },
  {
   "cell_type": "code",
   "execution_count": 360,
   "metadata": {
    "colab": {},
    "colab_type": "code",
    "id": "_10wlSO10W1K"
   },
   "outputs": [],
   "source": [
    "import numpy as np\n",
    "from cvxopt import printing\n",
    "\n",
    "\n",
    "class Kernel(object):\n",
    "    @staticmethod\n",
    "    def linear():\n",
    "        return lambda x, y: np.inner(x, y)\n",
    "    \n",
    "import numpy as np\n",
    "import cvxopt.solvers\n",
    "import logging\n",
    "\n",
    "\n",
    "MIN_SUPPORT_VECTOR_MULTIPLIER = 1e-5\n",
    "\n",
    "\n",
    "class SVMTrainer(object):\n",
    "    def __init__(self, kernel, c=0.1):\n",
    "        self._kernel = kernel\n",
    "        self._c = c\n",
    "\n",
    "\n",
    "    def train(self, X, y):\n",
    "        lagrange_multipliers = self._compute_lagrange_multipliers(X, y)\n",
    "        return self._create_predictor(X, y, lagrange_multipliers)\n",
    "\n",
    "\n",
    "    def _kernel_matrix(self, X):\n",
    "        n_samples = X.shape[0]\n",
    "        K = np.zeros((n_samples, n_samples))\n",
    "        for i, x_i in enumerate(X):\n",
    "            for j, x_j in enumerate(X):\n",
    "                K[i, j] = self._kernel(x_i, x_j)\n",
    "        return K\n",
    "\n",
    "\n",
    "    def _create_predictor(self, X, y, lagrange_multipliers):\n",
    "        support_vector_indices = lagrange_multipliers > MIN_SUPPORT_VECTOR_MULTIPLIER\n",
    "        support_multipliers = lagrange_multipliers[support_vector_indices]\n",
    "        support_vectors = X[support_vector_indices]\n",
    "        support_vector_labels = y[support_vector_indices]\n",
    "        bias = np.mean(\n",
    "            [y_k - SVMPredictor(\n",
    "                    kernel=self._kernel,\n",
    "                    bias=0.0,\n",
    "                    weights=support_multipliers,\n",
    "                    support_vectors=support_vectors,\n",
    "                    support_vector_labels=support_vector_labels\n",
    "                ).predict(x_k) for (y_k, x_k) in zip(support_vector_labels, support_vectors)\n",
    "            ]\n",
    "        )\n",
    "        return SVMPredictor(\n",
    "            kernel=self._kernel,\n",
    "            bias=bias,\n",
    "            weights=support_multipliers,\n",
    "            support_vectors=support_vectors,\n",
    "            support_vector_labels=support_vector_labels\n",
    "        )\n",
    "\n",
    "    def _compute_lagrange_multipliers(self, X, y):\n",
    "        n_samples = X.shape[0]\n",
    "        K = self._kernel_matrix(X)\n",
    "        P = cvxopt.matrix(np.outer(y, y) * K)\n",
    "        q = cvxopt.matrix(-1 * np.ones(n_samples))\n",
    "        G = cvxopt.matrix(np.diag(np.ones(n_samples) * -1))\n",
    "        h = cvxopt.matrix(np.zeros(n_samples))\n",
    "        A = cvxopt.matrix(y, (1, n_samples))\n",
    "        b = cvxopt.matrix(0.0)\n",
    "        \n",
    "        solution = cvxopt.solvers.qp(P, q, G, h, A, b)\n",
    "\n",
    "        return np.ravel(solution['x'])\n",
    "\n",
    "\n",
    "class SVMPredictor(object):\n",
    "    def __init__(\n",
    "                self,\n",
    "                kernel,\n",
    "                bias,\n",
    "                weights,\n",
    "                support_vectors,\n",
    "                support_vector_labels\n",
    "            ):\n",
    "        \n",
    "        self._kernel = kernel\n",
    "        self._bias = bias\n",
    "        self._weights = weights\n",
    "        self._support_vectors = support_vectors\n",
    "        self._support_vector_labels = support_vector_labels\n",
    "\n",
    "\n",
    "        assert len(support_vectors) == len(support_vector_labels)\n",
    "        assert len(weights) == len(support_vector_labels)\n",
    "\n",
    "\n",
    "        logging.info(\"Bias: %s\", self._bias)\n",
    "        logging.info(\"Weights: %s\", self._weights)\n",
    "        logging.info(\"Support vectors: %s\", self._support_vectors)\n",
    "        logging.info(\"Support vector labels: %s\", self._support_vector_labels)\n",
    "\n",
    "    def predict(self, x):\n",
    "        result = self._bias\n",
    "        for w_i, x_i, y_i in zip(self._weights,\n",
    "                                 self._support_vectors,\n",
    "                                 self._support_vector_labels):\n",
    "            result += w_i * y_i * self._kernel(x_i, x)\n",
    "        #print(result)\n",
    "        return np.sign(result).item()\n",
    "    \n",
    "    def predict_prob(self, x):\n",
    "        result = self._bias\n",
    "        for w_i, x_i, y_i in zip(self._weights,\n",
    "                                 self._support_vectors,\n",
    "                                 self._support_vector_labels):\n",
    "            result += w_i * y_i * self._kernel(x_i, x)\n",
    "        return result    "
   ]
  },
  {
   "cell_type": "code",
   "execution_count": 361,
   "metadata": {
    "colab": {},
    "colab_type": "code",
    "id": "_5NsrfuW0W1N"
   },
   "outputs": [],
   "source": [
    "%matplotlib inline\n",
    "import numpy as np\n",
    "import matplotlib.pyplot as plt\n",
    "import matplotlib.cm as cm\n",
    "import itertools\n",
    "\n",
    "def plot(predictor, X, y, grid_size):\n",
    "    \n",
    "    x_min, x_max = X[:, 0].min() - 1, X[:, 0].max() + 1\n",
    "    y_min, y_max = X[:, 1].min() - 1, X[:, 1].max() + 1\n",
    "    \n",
    "    xx, yy = np.meshgrid(\n",
    "        np.linspace(x_min, x_max, grid_size),\n",
    "        np.linspace(y_min, y_max, grid_size),\n",
    "        indexing='ij'\n",
    "    )\n",
    "    \n",
    "    flatten = lambda m: np.array(m).reshape(-1,)\n",
    "\n",
    "    result = []\n",
    "    \n",
    "    for (i, j) in itertools.product(range(grid_size), range(grid_size)):\n",
    "        point = np.array([xx[i, j], yy[i, j]]).reshape(1, 2)\n",
    "        result.append(predictor.predict(point))\n",
    "\n",
    "    Z = np.array(result).reshape(xx.shape)\n",
    "    \n",
    "    plt.contourf(\n",
    "        xx, yy, Z,\n",
    "        cmap=cm.Paired,\n",
    "        levels=[-0.01, 0.01],\n",
    "        extend='both',\n",
    "        alpha=0.8\n",
    "    )\n",
    "    \n",
    "    \n",
    "    plt.scatter(\n",
    "        flatten(X[:, 0]),\n",
    "        flatten(X[:, 1]),\n",
    "        c=flatten(y),\n",
    "        cmap=cm.Paired\n",
    "    )\n",
    "    \n",
    "    plt.xlim(x_min, x_max)\n",
    "    plt.ylim(y_min, y_max)"
   ]
  },
  {
   "cell_type": "code",
   "execution_count": 362,
   "metadata": {
    "colab": {},
    "colab_type": "code",
    "id": "uNEUYiun0W1T"
   },
   "outputs": [],
   "source": [
    "num_samples=100\n",
    "num_features=2\n",
    "grid_size=200\n",
    "samples = np.matrix(np.random.normal(size=num_samples * num_features)\n",
    "                        .reshape(num_samples, num_features))\n",
    "labels = 2 * (samples.sum(axis=1) > 0) - 1.0\n",
    "\n",
    "for i in [1, 5, 65]:\n",
    "    labels[i]=labels[i]*(-1)"
   ]
  },
  {
   "cell_type": "code",
   "execution_count": 374,
   "metadata": {
    "colab": {
     "base_uri": "https://localhost:8080/",
     "height": 452
    },
    "colab_type": "code",
    "id": "T8OFeH7wOLeX",
    "outputId": "f25521a4-7177-4823-eb80-1cc55f4ff686"
   },
   "outputs": [
    {
     "name": "stdout",
     "output_type": "stream",
     "text": [
      "     pcost       dcost       gap    pres   dres\n",
      " 0: -1.3518e+01 -2.8437e+01  2e+02  1e+01  2e+00\n",
      " 1: -3.3575e+01 -3.7102e+01  8e+01  6e+00  9e-01\n",
      " 2: -1.7288e+02 -1.6691e+02  8e+01  6e+00  9e-01\n",
      " 3: -3.4574e+02 -3.2702e+02  1e+02  6e+00  9e-01\n",
      " 4: -2.8863e+02 -3.1372e+02  3e+02  4e+00  7e-01\n",
      " 5: -2.8340e+02 -2.8817e+02  1e+02  1e+00  2e-01\n",
      " 6: -2.2285e+02 -2.2474e+02  2e+00  3e-04  4e-05\n",
      " 7: -2.2355e+02 -2.2357e+02  2e-02  3e-06  4e-07\n",
      " 8: -2.2356e+02 -2.2356e+02  2e-04  3e-08  4e-09\n",
      "Optimal solution found.\n"
     ]
    },
    {
     "data": {
      "image/png": "[encoded data removed]",
      "text/plain": [
       "<Figure size 432x288 with 1 Axes>"
      ]
     },
     "metadata": {
      "needs_background": "light"
     },
     "output_type": "display_data"
    }
   ],
   "source": [
    "from sklearn.metrics import roc_curve, auc\n",
    "from sklearn.model_selection import train_test_split\n",
    "trainer = SVMTrainer(Kernel.linear())\n",
    "X_train, X_test, y_train, y_test = train_test_split(samples, labels, test_size=.5,\n",
    "                                                    random_state=2312)\n",
    "predictor = trainer.train(X_train, y_train)\n",
    "plot(predictor, samples, labels, grid_size)"
   ]
  },
  {
   "cell_type": "code",
   "execution_count": 365,
   "metadata": {},
   "outputs": [],
   "source": [
    "def calc_cube_x(y_score):\n",
    "    l = np.min(y_score)\n",
    "    r = np.max(y_score)\n",
    "    #a = 0.008\n",
    "    #c = (l*l*l + 0.5/a - r * l * l + 0.5*l*l/(r*a*r))/(l*l/r - l)\n",
    "    #b = (-0.5/a - c*l - l*l*l)/(l*l)\n",
    "    b = -0.5/l\n",
    "    c = 0.5/r\n",
    "    #print(a*l*l*l + b*l*l + c*l)\n",
    "    #print(a*r*r*r + b*r*r + c*r)\n",
    "    #print(4*a*a*b*b - 12 * a*a *c)\n",
    "    #print(b)\n",
    "    #print(c)\n",
    "    return b,c\n",
    "    \n",
    "def f_x(b,c,x):\n",
    "    if(x<0):\n",
    "        return b*x + 0.5\n",
    "    else:\n",
    "        return c*x + 0.5"
   ]
  },
  {
   "cell_type": "code",
   "execution_count": 366,
   "metadata": {
    "colab": {},
    "colab_type": "code",
    "id": "ETwuszqPrcpZ"
   },
   "outputs": [
    {
     "name": "stdout",
     "output_type": "stream",
     "text": [
      "[matrix([[0.]]), matrix([[0.036]]), matrix([[0.056]]), matrix([[0.072]]), matrix([[0.076]]), matrix([[0.099]]), matrix([[0.145]]), matrix([[0.169]]), matrix([[0.183]]), matrix([[0.19]]), matrix([[0.19]]), matrix([[0.199]]), matrix([[0.222]]), matrix([[0.224]]), matrix([[0.242]]), matrix([[0.253]]), matrix([[0.257]]), matrix([[0.266]]), matrix([[0.274]]), matrix([[0.278]]), matrix([[0.278]]), matrix([[0.288]]), matrix([[0.327]]), matrix([[0.362]]), matrix([[0.398]]), matrix([[0.444]]), matrix([[0.483]]), matrix([[0.498]]), matrix([[0.499]]), matrix([[0.515]]), matrix([[0.545]]), matrix([[0.57]]), matrix([[0.572]]), matrix([[0.572]]), matrix([[0.578]]), matrix([[0.639]]), matrix([[0.655]]), matrix([[0.665]]), matrix([[0.671]]), matrix([[0.676]]), matrix([[0.685]]), matrix([[0.691]]), matrix([[0.728]]), matrix([[0.841]]), matrix([[0.849]]), matrix([[0.884]]), matrix([[0.9]]), matrix([[0.943]]), matrix([[0.988]]), matrix([[1.]])]\n"
     ]
    }
   ],
   "source": [
    "y_score = [predictor.predict_prob(x) for x in X_test]\n",
    "b,c = calc_cube_x(y_score)\n",
    "y_score_normalized = [f_x(b,c,x) for x in y_score]\n",
    "print(sorted(y_score_normalized))\n",
    "#print(y_score_normalized)\n",
    "#print(y_test > 0)\n",
    "#print(np.array(y_score_normalized) > 0.5)"
   ]
  },
  {
   "cell_type": "code",
   "execution_count": 367,
   "metadata": {},
   "outputs": [],
   "source": [
    "fpr = [0., 1.]\n",
    "tpr = [0., 1.]\n",
    "for i in range(1, 10000):\n",
    "    thr = i/10000\n",
    "    fp = 0\n",
    "    tp = 0\n",
    "    tn = 0\n",
    "    fn = 0\n",
    "    for j in range(len(y_score_normalized)):\n",
    "        if(y_score_normalized[j]>thr):\n",
    "            if(y_test[j]>0):\n",
    "                tp = tp + 1\n",
    "            else:\n",
    "                fp = fp + 1\n",
    "        else:\n",
    "            if(y_test[j]>0):\n",
    "                fn = fn + 1\n",
    "            else:\n",
    "                tn = tn + 1\n",
    "    tpr.append(tp/(tp+fn))\n",
    "    fpr.append(fp/(fp+tn))"
   ]
  },
  {
   "cell_type": "code",
   "execution_count": 368,
   "metadata": {
    "colab": {
     "base_uri": "https://localhost:8080/",
     "height": 295
    },
    "colab_type": "code",
    "id": "b7zkgiP3uXpJ",
    "outputId": "8dcf7a69-8c86-4099-a625-57c57e812fa7"
   },
   "outputs": [
    {
     "name": "stderr",
     "output_type": "stream",
     "text": [
      "WARNING:matplotlib.legend:No handles with labels found to put in legend.\n"
     ]
    },
    {
     "data": {
      "image/png": "[encoded data removed]",
      "text/plain": [
       "<Figure size 432x288 with 1 Axes>"
      ]
     },
     "metadata": {
      "needs_background": "light"
     },
     "output_type": "display_data"
    }
   ],
   "source": [
    "import matplotlib.pyplot as plt\n",
    "plt.figure()\n",
    "lw = 2\n",
    "plt.plot(fpr, tpr, color='darkorange',\n",
    "         lw=lw)\n",
    "plt.plot([0, 1], [0, 1], color='navy', lw=lw, linestyle='--')\n",
    "plt.xlim([-0.05, 1.05])\n",
    "plt.ylim([-0.05, 1.05])\n",
    "plt.xlabel('False Positive Rate')\n",
    "plt.ylabel('True Positive Rate')\n",
    "plt.title('Receiver operating characteristic example')\n",
    "plt.legend(loc=\"lower right\")\n",
    "plt.show()"
   ]
  },
  {
   "cell_type": "code",
   "execution_count": 369,
   "metadata": {
    "colab": {
     "base_uri": "https://localhost:8080/",
     "height": 319
    },
    "colab_type": "code",
    "id": "jozDS8AAPuDs",
    "outputId": "a9e07317-a0de-401a-f292-3de2f6708848"
   },
   "outputs": [
    {
     "data": {
      "image/png": "[encoded data removed]",
      "text/plain": [
       "<Figure size 432x288 with 1 Axes>"
      ]
     },
     "metadata": {
      "needs_background": "light"
     },
     "output_type": "display_data"
    }
   ],
   "source": [
    "from sklearn.svm import SVC\n",
    "from sklearn.preprocessing import label_binarize\n",
    "from sklearn.multiclass import OneVsRestClassifier\n",
    "clf = OneVsRestClassifier(svm.SVC(kernel='linear', probability=True))\n",
    "clf.fit(X_train, y_train)\n",
    "plot(clf, samples, labels, grid_size)"
   ]
  },
  {
   "cell_type": "code",
   "execution_count": 370,
   "metadata": {
    "colab": {},
    "colab_type": "code",
    "id": "M6EOZ0Otw9M1"
   },
   "outputs": [],
   "source": [
    "import numpy as np\n",
    "import matplotlib.pyplot as plt\n",
    "from itertools import cycle\n",
    "\n",
    "from sklearn import svm, datasets\n",
    "from sklearn.metrics import roc_curve, auc\n",
    "from sklearn.model_selection import train_test_split\n",
    "\n",
    "\n",
    "from scipy import interp\n",
    "from sklearn.metrics import roc_auc_score\n",
    "from sklearn import metrics"
   ]
  },
  {
   "cell_type": "code",
   "execution_count": 371,
   "metadata": {},
   "outputs": [],
   "source": [
    "def f(x):\n",
    "    if(x>0):\n",
    "        return 1\n",
    "    else:\n",
    "        return 0"
   ]
  },
  {
   "cell_type": "code",
   "execution_count": 372,
   "metadata": {
    "colab": {
     "base_uri": "https://localhost:8080/",
     "height": 68
    },
    "colab_type": "code",
    "id": "WaT0EKpTwTj3",
    "outputId": "db3ed3ae-287f-4561-f980-a8a3f4926518"
   },
   "outputs": [],
   "source": [
    "probs = clf.predict_proba(X_test)\n",
    "preds = probs[:,1]\n",
    "fpr = []\n",
    "tpr = []\n",
    "for i in range(0, 10001):\n",
    "    thr = i/10000\n",
    "    fp = 0\n",
    "    tp = 0\n",
    "    tn = 0\n",
    "    fn = 0\n",
    "    for j in range(len(preds)):\n",
    "        if(preds[j]>thr):\n",
    "            if(y_test[j]>0):\n",
    "                tp = tp + 1\n",
    "            else:\n",
    "                fp = fp + 1\n",
    "        else:\n",
    "            if(y_test[j]>0):\n",
    "                fn = fn + 1\n",
    "            else:\n",
    "                tn = tn + 1\n",
    "    tpr.append(tp/(tp+fn))\n",
    "    fpr.append(fp/(fp+tn))"
   ]
  },
  {
   "cell_type": "code",
   "execution_count": 373,
   "metadata": {
    "colab": {
     "base_uri": "https://localhost:8080/",
     "height": 295
    },
    "colab_type": "code",
    "id": "KSXFYV1Rwh1L",
    "outputId": "3c732e81-d8ee-435f-8edb-f48556a596a8"
   },
   "outputs": [
    {
     "name": "stderr",
     "output_type": "stream",
     "text": [
      "WARNING:matplotlib.legend:No handles with labels found to put in legend.\n"
     ]
    },
    {
     "data": {
      "image/png": "[encoded data removed]",
      "text/plain": [
       "<Figure size 432x288 with 1 Axes>"
      ]
     },
     "metadata": {
      "needs_background": "light"
     },
     "output_type": "display_data"
    }
   ],
   "source": [
    "import matplotlib.pyplot as plt\n",
    "plt.figure()\n",
    "lw = 2\n",
    "plt.plot(fpr, tpr, color='darkorange',\n",
    "         lw=lw)\n",
    "plt.plot([0, 1], [0, 1], color='navy', lw=lw, linestyle='--')\n",
    "plt.xlim([0.0, 1.0])\n",
    "plt.ylim([0.0, 1.05])\n",
    "plt.xlabel('False Positive Rate')\n",
    "plt.ylabel('True Positive Rate')\n",
    "plt.title('Receiver operating characteristic example')\n",
    "plt.legend(loc=\"lower right\")\n",
    "plt.show()"
   ]
  }
 ],
 "metadata": {
  "colab": {
   "name": "SVM.ipynb",
   "provenance": []
  },
  "kernelspec": {
   "display_name": "Python 3",
   "language": "python",
   "name": "python3"
  },
  "language_info": {
   "codemirror_mode": {
    "name": "ipython",
    "version": 3
   },
   "file_extension": ".py",
   "mimetype": "text/x-python",
   "name": "python",
   "nbconvert_exporter": "python",
   "pygments_lexer": "ipython3",
   "version": "3.7.1"
  }
 },
 "nbformat": 4,
 "nbformat_minor": 1
}
