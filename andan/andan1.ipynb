{
  "nbformat": 4,
  "nbformat_minor": 0,
  "metadata": {
    "colab": {
      "name": "andan1.ipynb",
      "version": "0.3.2",
      "provenance": [],
      "include_colab_link": true
    },
    "kernelspec": {
      "display_name": "Python 3",
      "language": "python",
      "name": "python3"
    }
  },
  "cells": [
    {
      "cell_type": "markdown",
      "metadata": {
        "id": "view-in-github",
        "colab_type": "text"
      },
      "source": [
        "<a href=\"https://colab.research.google.com/github/olexandryermilov/univ/blob/master/andan/andan1.ipynb\" target=\"_parent\"><img src=\"https://colab.research.google.com/assets/colab-badge.svg\" alt=\"Open In Colab\"/></a>"
      ]
    },
    {
      "metadata": {
        "id": "j1bilVn6W8Lf",
        "colab_type": "code",
        "colab": {
          "base_uri": "https://localhost:8080/",
          "height": 275
        },
        "outputId": "3dd77e16-bf6b-4830-abe4-0dd39858e6dc"
      },
      "cell_type": "code",
      "source": [
        "!pip install probscale\n",
        "import numpy as np\n",
        "import pandas as pd\n",
        "\n",
        "import probscale\n",
        "from probscale import probplot\n",
        "import matplotlib.pyplot as plt\n",
        "from scipy import stats\n",
        "import statsmodels.api as sm\n",
        "import pylab\n",
        "import seaborn as sns\n",
        "sns.set_style('whitegrid') #seaborn"
      ],
      "execution_count": 1,
      "outputs": [
        {
          "output_type": "stream",
          "text": [
            "Collecting probscale\n",
            "\u001b[?25l  Downloading https://files.pythonhosted.org/packages/95/f8/763e0815859fcea691441de80b2310b0bc37c41a70e1fe8bae31a9d52b38/probscale-0.2.3-py2.py3-none-any.whl (448kB)\n",
            "\u001b[K    100% |████████████████████████████████| 450kB 8.4MB/s \n",
            "\u001b[?25hRequirement already satisfied: matplotlib in /usr/local/lib/python3.6/dist-packages (from probscale) (2.1.2)\n",
            "Requirement already satisfied: numpy in /usr/local/lib/python3.6/dist-packages (from probscale) (1.14.6)\n",
            "Requirement already satisfied: pyparsing!=2.0.4,!=2.1.2,!=2.1.6,>=2.0.1 in /usr/local/lib/python3.6/dist-packages (from matplotlib->probscale) (2.3.0)\n",
            "Requirement already satisfied: pytz in /usr/local/lib/python3.6/dist-packages (from matplotlib->probscale) (2018.7)\n",
            "Requirement already satisfied: python-dateutil>=2.1 in /usr/local/lib/python3.6/dist-packages (from matplotlib->probscale) (2.5.3)\n",
            "Requirement already satisfied: cycler>=0.10 in /usr/local/lib/python3.6/dist-packages (from matplotlib->probscale) (0.10.0)\n",
            "Requirement already satisfied: six>=1.10 in /usr/local/lib/python3.6/dist-packages (from matplotlib->probscale) (1.11.0)\n",
            "Installing collected packages: probscale\n",
            "Successfully installed probscale-0.2.3\n"
          ],
          "name": "stdout"
        },
        {
          "output_type": "stream",
          "text": [
            "/usr/local/lib/python3.6/dist-packages/statsmodels/compat/pandas.py:56: FutureWarning: The pandas.core.datetools module is deprecated and will be removed in a future version. Please use the pandas.tseries module instead.\n",
            "  from pandas.core import datetools\n"
          ],
          "name": "stderr"
        }
      ]
    },
    {
      "metadata": {
        "id": "agwDOYOWW8Lj",
        "colab_type": "code",
        "colab": {
          "base_uri": "https://localhost:8080/",
          "height": 204
        },
        "outputId": "f6d43b0d-232b-43b4-80d2-3a3b8c7942f8"
      },
      "cell_type": "code",
      "source": [
        "df = pd.read_csv('https://raw.githubusercontent.com/olexandryermilov/univ/master/andan/cerealsugar.csv')\n",
        "df.head()"
      ],
      "execution_count": 2,
      "outputs": [
        {
          "output_type": "execute_result",
          "data": {
            "text/html": [
              "<div>\n",
              "<style scoped>\n",
              "    .dataframe tbody tr th:only-of-type {\n",
              "        vertical-align: middle;\n",
              "    }\n",
              "\n",
              "    .dataframe tbody tr th {\n",
              "        vertical-align: top;\n",
              "    }\n",
              "\n",
              "    .dataframe thead th {\n",
              "        text-align: right;\n",
              "    }\n",
              "</style>\n",
              "<table border=\"1\" class=\"dataframe\">\n",
              "  <thead>\n",
              "    <tr style=\"text-align: right;\">\n",
              "      <th></th>\n",
              "      <th>Unnamed: 0</th>\n",
              "      <th>year</th>\n",
              "      <th>population</th>\n",
              "    </tr>\n",
              "  </thead>\n",
              "  <tbody>\n",
              "    <tr>\n",
              "      <th>0</th>\n",
              "      <td>1</td>\n",
              "      <td>1851</td>\n",
              "      <td>2.436</td>\n",
              "    </tr>\n",
              "    <tr>\n",
              "      <th>1</th>\n",
              "      <td>2</td>\n",
              "      <td>1861</td>\n",
              "      <td>3.230</td>\n",
              "    </tr>\n",
              "    <tr>\n",
              "      <th>2</th>\n",
              "      <td>3</td>\n",
              "      <td>1871</td>\n",
              "      <td>3.689</td>\n",
              "    </tr>\n",
              "    <tr>\n",
              "      <th>3</th>\n",
              "      <td>4</td>\n",
              "      <td>1881</td>\n",
              "      <td>4.325</td>\n",
              "    </tr>\n",
              "    <tr>\n",
              "      <th>4</th>\n",
              "      <td>5</td>\n",
              "      <td>1891</td>\n",
              "      <td>4.833</td>\n",
              "    </tr>\n",
              "  </tbody>\n",
              "</table>\n",
              "</div>"
            ],
            "text/plain": [
              "   Unnamed: 0  year  population\n",
              "0           1  1851       2.436\n",
              "1           2  1861       3.230\n",
              "2           3  1871       3.689\n",
              "3           4  1881       4.325\n",
              "4           5  1891       4.833"
            ]
          },
          "metadata": {
            "tags": []
          },
          "execution_count": 2
        }
      ]
    },
    {
      "metadata": {
        "id": "8UpS0PuLW8Ln",
        "colab_type": "code",
        "colab": {}
      },
      "cell_type": "code",
      "source": [
        "data = df.population"
      ],
      "execution_count": 0,
      "outputs": []
    },
    {
      "metadata": {
        "id": "CowliSzJW8Lp",
        "colab_type": "code",
        "colab": {}
      },
      "cell_type": "code",
      "source": [
        "def compute_characteristics(array, n):\n",
        "    mean = array.mean()\n",
        "    std = array.std()\n",
        "    var = array.var()\n",
        "    minimum = array.min()\n",
        "    maximum = array.max()\n",
        "    q1 = array.quantile(0.25)\n",
        "    q3 = array.quantile(0.75)\n",
        "    median = np.median(array)\n",
        "    percentile_length = q3-q1\n",
        "    stat_frame = pd.DataFrame({'Mean':mean, 'Std':std, 'Var':var,\n",
        "                               'Min':minimum,'Max':maximum,\n",
        "                               'Q1':q1,'Q3':q3,\n",
        "                               'Median':median, \n",
        "                              \"Interquartile_range\":percentile_length}, index=['description statistics'])\n",
        "    return stat_frame"
      ],
      "execution_count": 0,
      "outputs": []
    },
    {
      "metadata": {
        "id": "dunrRc0KW8Ls",
        "colab_type": "code",
        "colab": {
          "base_uri": "https://localhost:8080/",
          "height": 80
        },
        "outputId": "cd0dfdc2-2482-4df7-8919-309279df41db"
      },
      "cell_type": "code",
      "source": [
        "compute_characteristics(data, len(data))"
      ],
      "execution_count": 11,
      "outputs": [
        {
          "output_type": "execute_result",
          "data": {
            "text/html": [
              "<div>\n",
              "<style scoped>\n",
              "    .dataframe tbody tr th:only-of-type {\n",
              "        vertical-align: middle;\n",
              "    }\n",
              "\n",
              "    .dataframe tbody tr th {\n",
              "        vertical-align: top;\n",
              "    }\n",
              "\n",
              "    .dataframe thead th {\n",
              "        text-align: right;\n",
              "    }\n",
              "</style>\n",
              "<table border=\"1\" class=\"dataframe\">\n",
              "  <thead>\n",
              "    <tr style=\"text-align: right;\">\n",
              "      <th></th>\n",
              "      <th>Interquartile_range</th>\n",
              "      <th>Max</th>\n",
              "      <th>Mean</th>\n",
              "      <th>Median</th>\n",
              "      <th>Min</th>\n",
              "      <th>Q1</th>\n",
              "      <th>Q3</th>\n",
              "      <th>Std</th>\n",
              "      <th>Var</th>\n",
              "    </tr>\n",
              "  </thead>\n",
              "  <tbody>\n",
              "    <tr>\n",
              "      <th>description statistics</th>\n",
              "      <td>13.8905</td>\n",
              "      <td>30.007</td>\n",
              "      <td>12.152938</td>\n",
              "      <td>9.5825</td>\n",
              "      <td>2.436</td>\n",
              "      <td>4.706</td>\n",
              "      <td>18.5965</td>\n",
              "      <td>9.005529</td>\n",
              "      <td>81.099546</td>\n",
              "    </tr>\n",
              "  </tbody>\n",
              "</table>\n",
              "</div>"
            ],
            "text/plain": [
              "                        Interquartile_range     Max       Mean  Median    Min  \\\n",
              "description statistics              13.8905  30.007  12.152938  9.5825  2.436   \n",
              "\n",
              "                           Q1       Q3       Std        Var  \n",
              "description statistics  4.706  18.5965  9.005529  81.099546  "
            ]
          },
          "metadata": {
            "tags": []
          },
          "execution_count": 11
        }
      ]
    },
    {
      "metadata": {
        "id": "IZKJNPb6W8Lu",
        "colab_type": "code",
        "colab": {
          "base_uri": "https://localhost:8080/",
          "height": 381
        },
        "outputId": "573dc3ce-3e77-49c6-ca42-d2e26325416b"
      },
      "cell_type": "code",
      "source": [
        "_ = sns.boxplot(data=data, orient='h')"
      ],
      "execution_count": 12,
      "outputs": [
        {
          "output_type": "stream",
          "text": [
            "/usr/local/lib/python3.6/dist-packages/seaborn/categorical.py:454: FutureWarning: remove_na is deprecated and is a private function. Do not use.\n",
            "  box_data = remove_na(group_data)\n"
          ],
          "name": "stderr"
        },
        {
          "output_type": "display_data",
          "data": {
            "image/png": "[encoded data removed]",
            "text/plain": [
              "<matplotlib.figure.Figure at 0x7f60f4746550>"
            ]
          },
          "metadata": {
            "tags": []
          }
        }
      ]
    },
    {
      "metadata": {
        "id": "JZqGTjrXW8Lx",
        "colab_type": "code",
        "colab": {
          "base_uri": "https://localhost:8080/",
          "height": 415
        },
        "outputId": "fd6327c7-515a-45a8-cb0e-6ddff8774591"
      },
      "cell_type": "code",
      "source": [
        "plt.hist(data)"
      ],
      "execution_count": 13,
      "outputs": [
        {
          "output_type": "execute_result",
          "data": {
            "text/plain": [
              "(array([5., 2., 2., 1., 1., 1., 1., 1., 1., 1.]),\n",
              " array([ 2.436 ,  5.1931,  7.9502, 10.7073, 13.4644, 16.2215, 18.9786,\n",
              "        21.7357, 24.4928, 27.2499, 30.007 ]),\n",
              " <a list of 10 Patch objects>)"
            ]
          },
          "metadata": {
            "tags": []
          },
          "execution_count": 13
        },
        {
          "output_type": "display_data",
          "data": {
            "image/png": "[encoded data removed]",
            "text/plain": [
              "<matplotlib.figure.Figure at 0x7f60f4746c18>"
            ]
          },
          "metadata": {
            "tags": []
          }
        }
      ]
    },
    {
      "metadata": {
        "id": "3R5vlZacW8L0",
        "colab_type": "code",
        "colab": {
          "base_uri": "https://localhost:8080/",
          "height": 361
        },
        "outputId": "5f0275b6-84d7-42f9-8249-35c6f6f563ca"
      },
      "cell_type": "code",
      "source": [
        "#q-q plot\n",
        "\n",
        "sm.qqplot(data)\n",
        "pylab.show()"
      ],
      "execution_count": 14,
      "outputs": [
        {
          "output_type": "display_data",
          "data": {
            "image/png": "[encoded data removed]",
            "text/plain": [
              "<matplotlib.figure.Figure at 0x7f60f4746ba8>"
            ]
          },
          "metadata": {
            "tags": []
          }
        }
      ]
    },
    {
      "metadata": {
        "id": "5AzsfZp1W8L3",
        "colab_type": "code",
        "colab": {
          "base_uri": "https://localhost:8080/",
          "height": 362
        },
        "outputId": "d3b0a6a1-26bc-423d-d74f-95e4a8b7f1fe"
      },
      "cell_type": "code",
      "source": [
        "#p-p plot\n",
        "\n",
        "probplot(data, plottype='pp')\n",
        "plt.title('P-P plot')\n",
        "plt.show()"
      ],
      "execution_count": 15,
      "outputs": [
        {
          "output_type": "display_data",
          "data": {
            "image/png": "[encoded data removed]",
            "text/plain": [
              "<matplotlib.figure.Figure at 0x7f60f4746978>"
            ]
          },
          "metadata": {
            "tags": []
          }
        }
      ]
    },
    {
      "metadata": {
        "id": "PqRkz3MYW8L6",
        "colab_type": "code",
        "colab": {}
      },
      "cell_type": "code",
      "source": [
        ""
      ],
      "execution_count": 0,
      "outputs": []
    }
  ]
}